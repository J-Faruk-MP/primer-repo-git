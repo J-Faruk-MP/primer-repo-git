{
 "cells": [
  {
   "cell_type": "markdown",
   "id": "82ce3a95",
   "metadata": {},
   "source": [
    "# Invocar funciones en python"
   ]
  },
  {
   "cell_type": "markdown",
   "id": "8e4d08e9",
   "metadata": {},
   "source": [
    "nombre_funcion(argumentos)"
   ]
  },
  {
   "cell_type": "markdown",
   "id": "f8e79f48",
   "metadata": {},
   "source": [
    "saltarRenglon()\n",
    "saludar (\"Maria\")\n",
    "sumar(1,3)"
   ]
  },
  {
   "cell_type": "code",
   "execution_count": 4,
   "id": "207dfc80",
   "metadata": {},
   "outputs": [
    {
     "name": "stdout",
     "output_type": "stream",
     "text": [
      "el resto entre 20 y 4 es 0\n",
      "20 es multiplo de 4\n"
     ]
    }
   ],
   "source": [
    "def obtener_resto(d,div,coc):\n",
    "    return d - (div * coc)\n",
    "def es_multiplo(x,y,z):\n",
    "    return obtener_resto(x,y,z) == 0\n",
    "# PROGRAMA PRINCIPAL\n",
    "dividendo = int(input(\"Ingresa el numero dividendo\"))\n",
    "divisor = int(input(\"Ingresa el resto de \"))\n",
    "cociente = dividendo // divisor\n",
    "\n",
    "resto = obtener_resto(dividendo,divisor,cociente)\n",
    "\n",
    "print(f\"el resto entre {dividendo} y {divisor} es {resto}\")\n",
    "\n",
    "if es_multiplo(dividendo,divisor,cociente):\n",
    "    print(f\"{dividendo} es multiplo de {divisor}\")"
   ]
  },
  {
   "cell_type": "code",
   "execution_count": null,
   "id": "83d91dc8",
   "metadata": {},
   "outputs": [],
   "source": [
    "#Definir funciones\n",
    "def siguiente (num):\n",
    "    return num +1\n",
    "def doble (num):\n",
    "    return num * 2\n",
    "#PROGRAMA PRINCIPAL\n",
    "print(doble(siguiente(4)))"
   ]
  },
  {
   "cell_type": "code",
   "execution_count": null,
   "id": "cd3a44f4",
   "metadata": {},
   "outputs": [],
   "source": [
    "input()\n",
    "len()\n",
    "print()"
   ]
  },
  {
   "cell_type": "code",
   "execution_count": 6,
   "id": "01a83ea2",
   "metadata": {},
   "outputs": [
    {
     "name": "stdout",
     "output_type": "stream",
     "text": [
      "El numero 5 es primo\n"
     ]
    }
   ],
   "source": [
    "#Definicion de funciones\n",
    "\n",
    "def obtener_resto(n1,n2):\n",
    "    return n1 - n2 * (n1 // n2)\n",
    "def es_multiplo(x,y):\n",
    "    return obtener_resto(x,y) == 0\n",
    "\n",
    "def leer_entero_validado(mensaje,min = float(\"-inf\") ,max = float (\"inf\")):\n",
    "    n = int(input(f\"{mensaje}\"))\n",
    "    while (n < min or n > max):\n",
    "        n = int(input(f\"ERROR.{mensaje}\"))\n",
    "    return n\n",
    "def informar_si_numero_es_primo(numero):\n",
    "    if es_primo(numero) :\n",
    "        print(f\"El numero {numero} es primo\")\n",
    "    else:print(f\"El numero {numero} NO es primo\")\n",
    "def es_primo(n):\n",
    "    cont = 2\n",
    "    while cont < n and not es_multiplo(n,cont):\n",
    "        cont += 1\n",
    "    return cont == n\n",
    "\n",
    "\n",
    "\n",
    "#Programa principal\n",
    "num = leer_entero_validado(\"Ingresa numero natural\", 1 )\n",
    "informar_si_numero_es_primo(num)"
   ]
  },
  {
   "cell_type": "code",
   "execution_count": 28,
   "id": "61832c59",
   "metadata": {},
   "outputs": [
    {
     "name": "stdout",
     "output_type": "stream",
     "text": [
      "El numero 28 es perfeco\n",
      "None\n"
     ]
    }
   ],
   "source": [
    "#1\n",
    "def leer_entero_validado(mensaje,min = float(\"-inf\") ,max = float (\"inf\")):\n",
    "    n = int(input(f\"{mensaje}\"))\n",
    "    while (n < min or n > max):\n",
    "        n = int(input(f\"ERROR.{mensaje}\"))\n",
    "    return n\n",
    "# 2\n",
    "def informar_si_numero_es_perfecto(numero):\n",
    "    if es_perfecto(numero) :\n",
    "        print(f\"El numero {numero} es perfeco\")\n",
    "    else:print(f\"El numero {numero} NO es perfecto\")\n",
    "# 3\n",
    "def es_perfecto(numero):\n",
    "    return sumatoria_dividores_propios(numero) == numero\n",
    "#6\n",
    "def obtener_resto(n1,n2):\n",
    "    return n1 - n2 * (n1 // n2)\n",
    "#5\n",
    "def es_multiplo(x,y):\n",
    "    return obtener_resto(x,y) == 0\n",
    "# 4\n",
    "def sumatoria_dividores_propios(numero):\n",
    "    cont = 1\n",
    "    sumatoria =  0\n",
    "    while cont < numero:\n",
    "        if es_multiplo(numero,cont):\n",
    "            sumatoria = sumatoria + cont \n",
    "        cont = cont +1\n",
    "    return sumatoria\n",
    "#1\n",
    "numero = leer_entero_validado(\"Escriba un numero\",1)\n",
    "#2,3,4,5,6\n",
    "print(informar_si_numero_es_perfecto(numero))"
   ]
  },
  {
   "cell_type": "code",
   "execution_count": 15,
   "id": "f02d2275",
   "metadata": {},
   "outputs": [
    {
     "name": "stdout",
     "output_type": "stream",
     "text": [
      "6\n"
     ]
    }
   ],
   "source": [
    "def obtener_resto(n1,n2):\n",
    "    return n1 - n2 * (n1 // n2)\n",
    "def es_multiplo(x,y):\n",
    "    return obtener_resto(x,y) == 0\n",
    "\n",
    "def sumatoria_dividores_propios(numero):\n",
    "    cont = 1\n",
    "    sumatoria=  0\n",
    "    while cont<numero:\n",
    "\n",
    "        if es_multiplo(numero,cont):\n",
    "            sumatoria = sumatoria+ cont \n",
    "        cont = cont +1\n",
    "    \n",
    "    return sumatoria\n",
    "\n",
    "print(sumatoria_dividores_propios(6))"
   ]
  },
  {
   "cell_type": "code",
   "execution_count": 43,
   "id": "36e01f44",
   "metadata": {},
   "outputs": [
    {
     "name": "stdout",
     "output_type": "stream",
     "text": [
      "XXXXX\n",
      "XXXXX\n",
      "XXXXX\n",
      "XXXXX\n",
      "XXXXX\n"
     ]
    }
   ],
   "source": [
    "\n",
    "def leer_entero_validado(mensaje,min = float(\"-inf\") ,max = float (\"inf\")):\n",
    "    n = int(input(f\"{mensaje}\"))\n",
    "    while (n < min or n > max):\n",
    "        n = int(input(f\"ERROR.{mensaje}\"))\n",
    "    return n\n",
    "def imprimir_matriz (al,an):\n",
    "    for i in range (an):\n",
    "        for j in range (al-1):\n",
    "            print(\"X\",end=\"\")\n",
    "        print(\"X\")\n",
    "ancho = leer_entero_validado(\"escriba el ancho de la matriz\",1) #3\n",
    "alto=  leer_entero_validado(\"escriba el ancho de la matriz\",1) #3\n",
    "\n",
    "imprimir_matriz(alto,ancho)"
   ]
  }
 ],
 "metadata": {
  "kernelspec": {
   "display_name": "Python 3",
   "language": "python",
   "name": "python3"
  },
  "language_info": {
   "codemirror_mode": {
    "name": "ipython",
    "version": 3
   },
   "file_extension": ".py",
   "mimetype": "text/x-python",
   "name": "python",
   "nbconvert_exporter": "python",
   "pygments_lexer": "ipython3",
   "version": "3.9.13"
  }
 },
 "nbformat": 4,
 "nbformat_minor": 5
}
