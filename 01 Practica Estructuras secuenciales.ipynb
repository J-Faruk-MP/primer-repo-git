{
 "cells": [
  {
   "cell_type": "markdown",
   "metadata": {},
   "source": [
    "Actividad 1\n",
    " Crear un programa que imprima por pantalla el mensaje: “Hola Mundo!"
   ]
  },
  {
   "cell_type": "code",
   "execution_count": null,
   "metadata": {},
   "outputs": [],
   "source": [
    "print(\"Hola mundo\")"
   ]
  },
  {
   "cell_type": "markdown",
   "metadata": {},
   "source": [
    "Actvidad 2 \n",
    "Crear un programa que pida al usuario su nombre e imprima por pantalla un saludo usando\n",
    "el nombre ingresado. Por ejemplo: si el usuario ingresa “Marcos”, el programa debe imprimir\n",
    "por pantalla “Hola Marcos!”. Consejo: esto será más sencillo si utilizas print(f…) para\n",
    "realizar la impresión por pantalla."
   ]
  },
  {
   "cell_type": "code",
   "execution_count": null,
   "metadata": {},
   "outputs": [
    {
     "name": "stdout",
     "output_type": "stream",
     "text": [
      "Hola faruk!\n"
     ]
    }
   ],
   "source": [
    "nombre = input(\"Cual es tu nombre: \")\n",
    "print(\"Hola\", nombre + \"!\")"
   ]
  },
  {
   "cell_type": "markdown",
   "metadata": {},
   "source": [
    "Actividad 3 Crear un programa que pida al usuario su nombre, apellido, edad y lugar de residencia e\n",
    "imprima por pantalla una oración con los datos ingresados. Por ejemplo: si el usuario ingresa\n",
    "“Marcos”, “Pérez”, “30” y “Argentina”, el programa debe imprimir “Soy Marcos Pérez, tengo 30\n",
    "años y vivo en Argentina”. Consejo: esto será más sencillo si utilizas print(f…) para realizar\n",
    "la impresión por pantalla."
   ]
  },
  {
   "cell_type": "code",
   "execution_count": 4,
   "metadata": {},
   "outputs": [
    {
     "name": "stdout",
     "output_type": "stream",
     "text": [
      "Soy faruk merrys,tengo 27 años y vivo en palermo  \n"
     ]
    }
   ],
   "source": [
    "nombre = input(\"Cual es tu nombre: \")\n",
    "apellido = input(\"Cual es tu apellido: \")\n",
    "edad = input(\"Cuantos años tenes: \")\n",
    "lugarResidencia =input(\"Donde vives: \")\n",
    "\n",
    "print(f\"Soy {nombre} {apellido},tengo {edad} años y vivo en {lugarResidencia}  \")"
   ]
  },
  {
   "cell_type": "markdown",
   "metadata": {},
   "source": [
    "Actividad 4 Crear un programa que pida al usuario el radio de un círculo e imprima por pantalla su área y\n",
    "su perímetro."
   ]
  },
  {
   "cell_type": "code",
   "execution_count": 14,
   "metadata": {},
   "outputs": [
    {
     "name": "stdout",
     "output_type": "stream",
     "text": [
      "El diametro de un circulo es 11554\n",
      "El area de un circulo es 104846573.28910999\n"
     ]
    }
   ],
   "source": [
    "radio = int(input(\"Cual es el radio del circulo: \"))\n",
    "diametro = radio * 2\n",
    "area = radio**2 * 3.14159\n",
    "print(f\"El diametro de un circulo es {diametro}\")\n",
    "print(f\"El area de un circulo es {area}\")\n"
   ]
  },
  {
   "cell_type": "markdown",
   "metadata": {},
   "source": [
    "Actividad 5   Crear un programa que pida al usuario una cantidad de segundos e imprima por pantalla a\n",
    "cuántas horas equivale."
   ]
  },
  {
   "cell_type": "code",
   "execution_count": null,
   "metadata": {},
   "outputs": [
    {
     "name": "stdout",
     "output_type": "stream",
     "text": [
      "equivale aproximadamente a  1 horas y 23 \n"
     ]
    }
   ],
   "source": [
    "segundos =int(input(\"Ingresa la cantidad de segundos\"))\n",
    "hora = int(segundos// 3600)\n",
    "minutos = (segundos%3600)//60\n",
    "\n",
    "print(f\"equivale aproximadamente a  {hora} horas y {minutos} minutos \")"
   ]
  },
  {
   "cell_type": "markdown",
   "metadata": {},
   "source": [
    "Avtividad 6 Crear un programa que pida al usuario un número e imprima por pantalla la tabla de\n",
    "multiplicar de dicho número.\n"
   ]
  },
  {
   "cell_type": "code",
   "execution_count": 23,
   "metadata": {},
   "outputs": [
    {
     "name": "stdout",
     "output_type": "stream",
     "text": [
      "Tabla de multiplica del numero 2\n",
      "1x2= 2\n",
      "2x2= 4\n",
      "3x2= 6\n",
      "4x2= 8\n",
      "5x2= 10\n",
      "6x2= 12\n",
      "7x2= 14\n",
      "8x2= 16\n",
      "9x2= 18\n",
      "10x2= 20\n"
     ]
    }
   ],
   "source": [
    "numero = int(input(\"Dame numero para la tabla de multiplicacion\"))\n",
    "print(\"Tabla de multiplica del numero\",numero)\n",
    "for i in range(1,11):\n",
    "    resultado = numero * i\n",
    "    print(f\"{i}x{numero}= {resultado}\")\n"
   ]
  },
  {
   "cell_type": "markdown",
   "metadata": {},
   "source": [
    "Actividad 7 Crear un programa que pida al usuario dos números enteros distintos del 0 y muestre por\n",
    "pantalla el resultado de sumarlos, dividirlos, multiplicarlos y restarlos.\n"
   ]
  },
  {
   "cell_type": "code",
   "execution_count": 25,
   "metadata": {},
   "outputs": [
    {
     "name": "stdout",
     "output_type": "stream",
     "text": [
      "3 + 2 = 5\n",
      "3 - 2 = 1\n",
      "3 * 2 = 6\n",
      "3 / 2 = 1.5\n"
     ]
    }
   ],
   "source": [
    "num1 = int(input(\"Escribe un numero: \"))\n",
    "num2 = int(input(\"Escribe un numero: \"))\n",
    "\n",
    "if num1 != 0 and num2 != 0:\n",
    "    suma = num1 + num2\n",
    "    resta = num1 - num2\n",
    "    multiplicacion = num1 * num2\n",
    "    division = num1 / num2\n",
    "    print(f\"{num1} + {num2} = {suma}\")\n",
    "    print(f\"{num1} - {num2} = {resta}\")\n",
    "    print(f\"{num1} * {num2} = {multiplicacion}\")\n",
    "    print(f\"{num1} / {num2} = {division}\")\n",
    "else:\n",
    "    print(\"Los numeros no pueden ser igual a 0\")"
   ]
  },
  {
   "cell_type": "markdown",
   "metadata": {},
   "source": [
    "Actividad 8  Crear un programa que pida al usuario su altura y su peso e imprima por pantalla su índice\n",
    "de masa corporal. Tener en cuenta que el índice de masa corporal se calcula del siguiente\n",
    "modo:"
   ]
  },
  {
   "cell_type": "code",
   "execution_count": 31,
   "metadata": {},
   "outputs": [
    {
     "name": "stdout",
     "output_type": "stream",
     "text": [
      "El indice IMC es 52.121212121212125\n"
     ]
    }
   ],
   "source": [
    "altura = float(input(\"Cual es tu altura : \"))\n",
    "Peso = float(input(\"Cual es tu peso : \"))\n",
    "IMC = Peso/altura\n",
    "print(f\"El indice IMC es {IMC}\" )"
   ]
  },
  {
   "cell_type": "markdown",
   "metadata": {},
   "source": [
    "Actividad 9 Crear un programa que pida al usuario una temperatura en grados Celsius e imprima por\n",
    "pantalla su equivalente en grados Fahrenheit. Tener en cuenta la siguiente equivalencia"
   ]
  },
  {
   "cell_type": "code",
   "execution_count": 32,
   "metadata": {},
   "outputs": [
    {
     "name": "stdout",
     "output_type": "stream",
     "text": [
      "Temperatura en Fahrenheit es de 86.0\n"
     ]
    }
   ],
   "source": [
    "temperatura = int(input(\"Grados Celsius: \"))\n",
    "Fahrenheit = 1.8 * temperatura + 32\n",
    "print(f\"Temperatura en Fahrenheit es de {Fahrenheit}\")"
   ]
  },
  {
   "cell_type": "markdown",
   "metadata": {},
   "source": [
    "Actividad 10 Crear un programa que pida al usuario 3 números e imprima por pantalla el promedio de\n",
    "dichos números.\n"
   ]
  },
  {
   "cell_type": "code",
   "execution_count": 34,
   "metadata": {},
   "outputs": [
    {
     "name": "stdout",
     "output_type": "stream",
     "text": [
      "El promedio es 1.0\n"
     ]
    }
   ],
   "source": [
    "num1 = int(input(\"Ingresa un numero : \"))\n",
    "num2 = int(input(\"Ingresa un segundo numero : \"))\n",
    "num3 = int(input(\"Ingresa un tercer  numero : \"))\n",
    "promedio = (num1+num2+num3) / 3\n",
    "print(f\"El promedio es {promedio}\")"
   ]
  }
 ],
 "metadata": {
  "kernelspec": {
   "display_name": "Python 3",
   "language": "python",
   "name": "python3"
  },
  "language_info": {
   "codemirror_mode": {
    "name": "ipython",
    "version": 3
   },
   "file_extension": ".py",
   "mimetype": "text/x-python",
   "name": "python",
   "nbconvert_exporter": "python",
   "pygments_lexer": "ipython3",
   "version": "3.9.13"
  }
 },
 "nbformat": 4,
 "nbformat_minor": 2
}
